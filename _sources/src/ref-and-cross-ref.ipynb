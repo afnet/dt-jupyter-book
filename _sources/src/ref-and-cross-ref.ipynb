{
 "cells": [
  {
   "cell_type": "markdown",
   "id": "c3ff0ffe",
   "metadata": {},
   "source": [
    "# Referencing and cross referencing\n",
    "\n",
    "## Creating labels by titles\n",
    "The following source code is used to create a hidden label `section-label-1` for the next section.\n",
    "```\n",
    "(section-label-1)=\n",
    "## Cross-project refs\n",
    "```\n",
    "\n",
    "(section-label-1)=\n",
    "## Cross-project refs\n",
    "\n",
    "\n",
    "```{example}\n",
    "Link to another [book11](other-book:section-label-1)\n",
    "\n",
    "Or, with sphinx flavor:\n",
    "{ref}`book11 <other-book:section-label-1>`\n",
    "```\n",
    "\n",
    "The referencing is achieved with [intersphinx](https://www.sphinx-doc.org/en/master/usage/extensions/intersphinx.html).\n",
    "The reference comprises of the book name `other-book` and the label symbol `section-label-1`.\n",
    "\n",
    "The book name is defined in `_config.yml` like below\n",
    "```yaml\n",
    "sphinx:\n",
    "  ...\n",
    "  config:\n",
    "    intersphinx_mapping:\n",
    "      other-book:\n",
    "        - \"https://afnet.github.io/book11\"\n",
    "        - null\n",
    "```\n",
    "\n",
    "To conveniently find the available label symbols in other books, a utility has been provided.\n",
    "Take the above linked book for example:\n",
    "\n",
    "```{prompt} bash\n",
    "python -m sphinx.ext.intersphinx https://afnet.github.io/book11/objects.inv\n",
    "```\n",
    "\n",
    "Or, use it in a script (example outcomes provided below)"
   ]
  },
  {
   "cell_type": "code",
   "execution_count": 1,
   "id": "f1e3b80b",
   "metadata": {},
   "outputs": [
    {
     "name": "stdout",
     "output_type": "stream",
     "text": [
      "std:doc\n",
      "\tadded-contents                           Trying different contents (.md)         : added-contents.html\n",
      "\tintro                                    Welcome to Book11                       : intro.html\n",
      "\tmarkdown                                 Markdown Files                          : markdown.html\n",
      "\tmarkdown-notebooks                       Notebooks with MyST Markdown            : markdown-notebooks.html\n",
      "\tnotebooks                                Content with notebooks                  : notebooks.html\n",
      "std:label\n",
      "\tgenindex                                 Index                                   : genindex.html\n",
      "\tmodindex                                 Module Index                            : py-modindex.html\n",
      "\tpy-modindex                              Python Module Index                     : py-modindex.html\n",
      "\tsearch                                   Search Page                             : search.html\n",
      "\tsection-label-1                          First section                           : added-contents.html#section-label-1\n"
     ]
    }
   ],
   "source": [
    "from sphinx.ext.intersphinx import inspect_main\n",
    "inspect_main([\"https://afnet.github.io/book11/objects.inv\"])"
   ]
  },
  {
   "cell_type": "markdown",
   "id": "dd000a74",
   "metadata": {},
   "source": [
    "## Ref to same book\n",
    "\n",
    "```{example} Refer to the document from another source file\n",
    "Here is a [reference back to the intro](../intro.md).\n",
    "```\n",
    "\n",
    "```{example} Refer to a section label\n",
    "[Top section of this page](section-label-1)\n",
    "\n",
    "Or, {ref}`back to the top section <section-label-1>`\n",
    "```\n",
    "\n",
    "Without contents in the `[]`, the original section title is taken. E.g.\n",
    "```{example}\n",
    "A ref to [](section-label-1).\n",
    "```"
   ]
  }
 ],
 "metadata": {
  "jupytext": {
   "cell_metadata_filter": "-all",
   "formats": "md:myst",
   "text_representation": {
    "extension": ".md",
    "format_name": "myst",
    "format_version": 0.13,
    "jupytext_version": "1.11.5"
   }
  },
  "kernelspec": {
   "display_name": "Python 3",
   "language": "python",
   "name": "python3"
  },
  "language_info": {
   "codemirror_mode": {
    "name": "ipython",
    "version": 3
   },
   "file_extension": ".py",
   "mimetype": "text/x-python",
   "name": "python",
   "nbconvert_exporter": "python",
   "pygments_lexer": "ipython3",
   "version": "3.8.9"
  },
  "source_map": [
   14,
   59,
   62
  ]
 },
 "nbformat": 4,
 "nbformat_minor": 5
}